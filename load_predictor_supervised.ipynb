{
 "cells": [
  {
   "cell_type": "markdown",
   "id": "27620e90",
   "metadata": {
    "papermill": {
     "duration": 0.008292,
     "end_time": "2025-05-24T21:44:45.816410",
     "exception": false,
     "start_time": "2025-05-24T21:44:45.808118",
     "status": "completed"
    },
    "tags": []
   },
   "source": [
    "<strong>Kütüphanelerimizi okuduk.</strong>"
   ]
  },
  {
   "cell_type": "code",
   "execution_count": 1,
   "id": "d325287e",
   "metadata": {
    "execution": {
     "iopub.execute_input": "2025-05-24T21:44:45.832436Z",
     "iopub.status.busy": "2025-05-24T21:44:45.832135Z",
     "iopub.status.idle": "2025-05-24T21:44:49.936474Z",
     "shell.execute_reply": "2025-05-24T21:44:49.935755Z"
    },
    "papermill": {
     "duration": 4.114208,
     "end_time": "2025-05-24T21:44:49.938081",
     "exception": false,
     "start_time": "2025-05-24T21:44:45.823873",
     "status": "completed"
    },
    "tags": []
   },
   "outputs": [],
   "source": [
    "import pandas as pd\n",
    "import numpy as np\n",
    "import seaborn as sns\n",
    "import matplotlib.pyplot as plt\n",
    "from sklearn.model_selection import train_test_split, GridSearchCV\n",
    "from sklearn.metrics import accuracy_score, confusion_matrix\n",
    "from sklearn.neighbors import KNeighborsClassifier\n",
    "from sklearn.metrics import classification_report\n",
    "from sklearn.preprocessing import MinMaxScaler\n",
    "from sklearn.model_selection import StratifiedKFold\n",
    "\n",
    "import warnings\n",
    "warnings.filterwarnings(\"ignore\")"
   ]
  },
  {
   "cell_type": "markdown",
   "id": "245859ab",
   "metadata": {
    "papermill": {
     "duration": 0.006989,
     "end_time": "2025-05-24T21:44:49.952659",
     "exception": false,
     "start_time": "2025-05-24T21:44:49.945670",
     "status": "completed"
    },
    "tags": []
   },
   "source": [
    "<h4><strong>EDA</strong><br>\n",
    "<h5>Öncelikle verimizi okuduk ve data hakkında bazı bilgiler elde etmek istedik. Böylece datayı tanımaya çalıştık.</h5>"
   ]
  },
  {
   "cell_type": "code",
   "execution_count": 2,
   "id": "fdbe2772",
   "metadata": {
    "execution": {
     "iopub.execute_input": "2025-05-24T21:44:49.968744Z",
     "iopub.status.busy": "2025-05-24T21:44:49.968070Z",
     "iopub.status.idle": "2025-05-24T21:44:50.125028Z",
     "shell.execute_reply": "2025-05-24T21:44:50.124062Z"
    },
    "papermill": {
     "duration": 0.166575,
     "end_time": "2025-05-24T21:44:50.126379",
     "exception": false,
     "start_time": "2025-05-24T21:44:49.959804",
     "status": "completed"
    },
    "tags": []
   },
   "outputs": [
    {
     "data": {
      "text/html": [
       "<div>\n",
       "<style scoped>\n",
       "    .dataframe tbody tr th:only-of-type {\n",
       "        vertical-align: middle;\n",
       "    }\n",
       "\n",
       "    .dataframe tbody tr th {\n",
       "        vertical-align: top;\n",
       "    }\n",
       "\n",
       "    .dataframe thead th {\n",
       "        text-align: right;\n",
       "    }\n",
       "</style>\n",
       "<table border=\"1\" class=\"dataframe\">\n",
       "  <thead>\n",
       "    <tr style=\"text-align: right;\">\n",
       "      <th></th>\n",
       "      <th>age</th>\n",
       "      <th>job</th>\n",
       "      <th>marital</th>\n",
       "      <th>education</th>\n",
       "      <th>default</th>\n",
       "      <th>balance</th>\n",
       "      <th>housing</th>\n",
       "      <th>loan</th>\n",
       "      <th>contact</th>\n",
       "      <th>day</th>\n",
       "      <th>month</th>\n",
       "      <th>duration</th>\n",
       "      <th>campaign</th>\n",
       "      <th>y</th>\n",
       "    </tr>\n",
       "  </thead>\n",
       "  <tbody>\n",
       "    <tr>\n",
       "      <th>0</th>\n",
       "      <td>58</td>\n",
       "      <td>management</td>\n",
       "      <td>married</td>\n",
       "      <td>tertiary</td>\n",
       "      <td>no</td>\n",
       "      <td>2143</td>\n",
       "      <td>yes</td>\n",
       "      <td>no</td>\n",
       "      <td>unknown</td>\n",
       "      <td>5</td>\n",
       "      <td>may</td>\n",
       "      <td>261</td>\n",
       "      <td>1</td>\n",
       "      <td>no</td>\n",
       "    </tr>\n",
       "    <tr>\n",
       "      <th>1</th>\n",
       "      <td>44</td>\n",
       "      <td>technician</td>\n",
       "      <td>single</td>\n",
       "      <td>secondary</td>\n",
       "      <td>no</td>\n",
       "      <td>29</td>\n",
       "      <td>yes</td>\n",
       "      <td>no</td>\n",
       "      <td>unknown</td>\n",
       "      <td>5</td>\n",
       "      <td>may</td>\n",
       "      <td>151</td>\n",
       "      <td>1</td>\n",
       "      <td>no</td>\n",
       "    </tr>\n",
       "    <tr>\n",
       "      <th>2</th>\n",
       "      <td>33</td>\n",
       "      <td>entrepreneur</td>\n",
       "      <td>married</td>\n",
       "      <td>secondary</td>\n",
       "      <td>no</td>\n",
       "      <td>2</td>\n",
       "      <td>yes</td>\n",
       "      <td>yes</td>\n",
       "      <td>unknown</td>\n",
       "      <td>5</td>\n",
       "      <td>may</td>\n",
       "      <td>76</td>\n",
       "      <td>1</td>\n",
       "      <td>no</td>\n",
       "    </tr>\n",
       "    <tr>\n",
       "      <th>3</th>\n",
       "      <td>47</td>\n",
       "      <td>blue-collar</td>\n",
       "      <td>married</td>\n",
       "      <td>unknown</td>\n",
       "      <td>no</td>\n",
       "      <td>1506</td>\n",
       "      <td>yes</td>\n",
       "      <td>no</td>\n",
       "      <td>unknown</td>\n",
       "      <td>5</td>\n",
       "      <td>may</td>\n",
       "      <td>92</td>\n",
       "      <td>1</td>\n",
       "      <td>no</td>\n",
       "    </tr>\n",
       "    <tr>\n",
       "      <th>4</th>\n",
       "      <td>33</td>\n",
       "      <td>unknown</td>\n",
       "      <td>single</td>\n",
       "      <td>unknown</td>\n",
       "      <td>no</td>\n",
       "      <td>1</td>\n",
       "      <td>no</td>\n",
       "      <td>no</td>\n",
       "      <td>unknown</td>\n",
       "      <td>5</td>\n",
       "      <td>may</td>\n",
       "      <td>198</td>\n",
       "      <td>1</td>\n",
       "      <td>no</td>\n",
       "    </tr>\n",
       "  </tbody>\n",
       "</table>\n",
       "</div>"
      ],
      "text/plain": [
       "   age           job  marital  education default  balance housing loan  \\\n",
       "0   58    management  married   tertiary      no     2143     yes   no   \n",
       "1   44    technician   single  secondary      no       29     yes   no   \n",
       "2   33  entrepreneur  married  secondary      no        2     yes  yes   \n",
       "3   47   blue-collar  married    unknown      no     1506     yes   no   \n",
       "4   33       unknown   single    unknown      no        1      no   no   \n",
       "\n",
       "   contact  day month  duration  campaign   y  \n",
       "0  unknown    5   may       261         1  no  \n",
       "1  unknown    5   may       151         1  no  \n",
       "2  unknown    5   may        76         1  no  \n",
       "3  unknown    5   may        92         1  no  \n",
       "4  unknown    5   may       198         1  no  "
      ]
     },
     "execution_count": 2,
     "metadata": {},
     "output_type": "execute_result"
    }
   ],
   "source": [
    "data = pd.read_csv('/kaggle/input/loan-pedictor-dtset/term-deposit-marketing-2020.csv')\n",
    "data.head()"
   ]
  },
  {
   "cell_type": "code",
   "execution_count": 3,
   "id": "b6056a4e",
   "metadata": {
    "execution": {
     "iopub.execute_input": "2025-05-24T21:44:50.143497Z",
     "iopub.status.busy": "2025-05-24T21:44:50.142841Z",
     "iopub.status.idle": "2025-05-24T21:44:50.172114Z",
     "shell.execute_reply": "2025-05-24T21:44:50.171161Z"
    },
    "papermill": {
     "duration": 0.039023,
     "end_time": "2025-05-24T21:44:50.173567",
     "exception": false,
     "start_time": "2025-05-24T21:44:50.134544",
     "status": "completed"
    },
    "tags": []
   },
   "outputs": [
    {
     "name": "stdout",
     "output_type": "stream",
     "text": [
      "40000\n",
      "Data shape  (40000, 14)\n"
     ]
    }
   ],
   "source": [
    "print(len(data))\n",
    "print(\"Data shape \", data.shape)\n",
    "describe = data.describe()"
   ]
  },
  {
   "cell_type": "markdown",
   "id": "1f52a46e",
   "metadata": {
    "papermill": {
     "duration": 0.007271,
     "end_time": "2025-05-24T21:44:50.188559",
     "exception": false,
     "start_time": "2025-05-24T21:44:50.181288",
     "status": "completed"
    },
    "tags": []
   },
   "source": [
    "<strong> Görülebileceği gibi dataset 14 sütun ve 40.000 veri noktası içeriyor.</strong>"
   ]
  },
  {
   "cell_type": "code",
   "execution_count": 4,
   "id": "c2850463",
   "metadata": {
    "execution": {
     "iopub.execute_input": "2025-05-24T21:44:50.205116Z",
     "iopub.status.busy": "2025-05-24T21:44:50.204769Z",
     "iopub.status.idle": "2025-05-24T21:44:50.243160Z",
     "shell.execute_reply": "2025-05-24T21:44:50.242223Z"
    },
    "papermill": {
     "duration": 0.048364,
     "end_time": "2025-05-24T21:44:50.244651",
     "exception": false,
     "start_time": "2025-05-24T21:44:50.196287",
     "status": "completed"
    },
    "tags": []
   },
   "outputs": [
    {
     "name": "stdout",
     "output_type": "stream",
     "text": [
      "<class 'pandas.core.frame.DataFrame'>\n",
      "RangeIndex: 40000 entries, 0 to 39999\n",
      "Data columns (total 14 columns):\n",
      " #   Column     Non-Null Count  Dtype \n",
      "---  ------     --------------  ----- \n",
      " 0   age        40000 non-null  int64 \n",
      " 1   job        40000 non-null  object\n",
      " 2   marital    40000 non-null  object\n",
      " 3   education  40000 non-null  object\n",
      " 4   default    40000 non-null  object\n",
      " 5   balance    40000 non-null  int64 \n",
      " 6   housing    40000 non-null  object\n",
      " 7   loan       40000 non-null  object\n",
      " 8   contact    40000 non-null  object\n",
      " 9   day        40000 non-null  int64 \n",
      " 10  month      40000 non-null  object\n",
      " 11  duration   40000 non-null  int64 \n",
      " 12  campaign   40000 non-null  int64 \n",
      " 13  y          40000 non-null  object\n",
      "dtypes: int64(5), object(9)\n",
      "memory usage: 4.3+ MB\n"
     ]
    }
   ],
   "source": [
    "data.info()"
   ]
  },
  {
   "cell_type": "code",
   "execution_count": 5,
   "id": "7f651b5b",
   "metadata": {
    "execution": {
     "iopub.execute_input": "2025-05-24T21:44:50.261028Z",
     "iopub.status.busy": "2025-05-24T21:44:50.260727Z",
     "iopub.status.idle": "2025-05-24T21:44:50.284916Z",
     "shell.execute_reply": "2025-05-24T21:44:50.284145Z"
    },
    "papermill": {
     "duration": 0.034028,
     "end_time": "2025-05-24T21:44:50.286405",
     "exception": false,
     "start_time": "2025-05-24T21:44:50.252377",
     "status": "completed"
    },
    "tags": []
   },
   "outputs": [
    {
     "data": {
      "text/html": [
       "<div>\n",
       "<style scoped>\n",
       "    .dataframe tbody tr th:only-of-type {\n",
       "        vertical-align: middle;\n",
       "    }\n",
       "\n",
       "    .dataframe tbody tr th {\n",
       "        vertical-align: top;\n",
       "    }\n",
       "\n",
       "    .dataframe thead th {\n",
       "        text-align: right;\n",
       "    }\n",
       "</style>\n",
       "<table border=\"1\" class=\"dataframe\">\n",
       "  <thead>\n",
       "    <tr style=\"text-align: right;\">\n",
       "      <th></th>\n",
       "      <th>age</th>\n",
       "      <th>balance</th>\n",
       "      <th>day</th>\n",
       "      <th>duration</th>\n",
       "      <th>campaign</th>\n",
       "    </tr>\n",
       "  </thead>\n",
       "  <tbody>\n",
       "    <tr>\n",
       "      <th>count</th>\n",
       "      <td>40000.000000</td>\n",
       "      <td>40000.000000</td>\n",
       "      <td>40000.000000</td>\n",
       "      <td>40000.000000</td>\n",
       "      <td>40000.000000</td>\n",
       "    </tr>\n",
       "    <tr>\n",
       "      <th>mean</th>\n",
       "      <td>40.544600</td>\n",
       "      <td>1274.277550</td>\n",
       "      <td>16.017225</td>\n",
       "      <td>254.824300</td>\n",
       "      <td>2.882175</td>\n",
       "    </tr>\n",
       "    <tr>\n",
       "      <th>std</th>\n",
       "      <td>9.641776</td>\n",
       "      <td>2903.769716</td>\n",
       "      <td>8.278127</td>\n",
       "      <td>259.366498</td>\n",
       "      <td>3.239051</td>\n",
       "    </tr>\n",
       "    <tr>\n",
       "      <th>min</th>\n",
       "      <td>19.000000</td>\n",
       "      <td>-8019.000000</td>\n",
       "      <td>1.000000</td>\n",
       "      <td>0.000000</td>\n",
       "      <td>1.000000</td>\n",
       "    </tr>\n",
       "    <tr>\n",
       "      <th>25%</th>\n",
       "      <td>33.000000</td>\n",
       "      <td>54.000000</td>\n",
       "      <td>8.000000</td>\n",
       "      <td>100.000000</td>\n",
       "      <td>1.000000</td>\n",
       "    </tr>\n",
       "    <tr>\n",
       "      <th>50%</th>\n",
       "      <td>39.000000</td>\n",
       "      <td>407.000000</td>\n",
       "      <td>17.000000</td>\n",
       "      <td>175.000000</td>\n",
       "      <td>2.000000</td>\n",
       "    </tr>\n",
       "    <tr>\n",
       "      <th>75%</th>\n",
       "      <td>48.000000</td>\n",
       "      <td>1319.000000</td>\n",
       "      <td>21.000000</td>\n",
       "      <td>313.000000</td>\n",
       "      <td>3.000000</td>\n",
       "    </tr>\n",
       "    <tr>\n",
       "      <th>max</th>\n",
       "      <td>95.000000</td>\n",
       "      <td>102127.000000</td>\n",
       "      <td>31.000000</td>\n",
       "      <td>4918.000000</td>\n",
       "      <td>63.000000</td>\n",
       "    </tr>\n",
       "  </tbody>\n",
       "</table>\n",
       "</div>"
      ],
      "text/plain": [
       "                age        balance           day      duration      campaign\n",
       "count  40000.000000   40000.000000  40000.000000  40000.000000  40000.000000\n",
       "mean      40.544600    1274.277550     16.017225    254.824300      2.882175\n",
       "std        9.641776    2903.769716      8.278127    259.366498      3.239051\n",
       "min       19.000000   -8019.000000      1.000000      0.000000      1.000000\n",
       "25%       33.000000      54.000000      8.000000    100.000000      1.000000\n",
       "50%       39.000000     407.000000     17.000000    175.000000      2.000000\n",
       "75%       48.000000    1319.000000     21.000000    313.000000      3.000000\n",
       "max       95.000000  102127.000000     31.000000   4918.000000     63.000000"
      ]
     },
     "execution_count": 5,
     "metadata": {},
     "output_type": "execute_result"
    }
   ],
   "source": [
    "data.describe()"
   ]
  },
  {
   "cell_type": "code",
   "execution_count": 6,
   "id": "153a4913",
   "metadata": {
    "execution": {
     "iopub.execute_input": "2025-05-24T21:44:50.304064Z",
     "iopub.status.busy": "2025-05-24T21:44:50.303444Z",
     "iopub.status.idle": "2025-05-24T21:44:50.328256Z",
     "shell.execute_reply": "2025-05-24T21:44:50.327330Z"
    },
    "papermill": {
     "duration": 0.035152,
     "end_time": "2025-05-24T21:44:50.329569",
     "exception": false,
     "start_time": "2025-05-24T21:44:50.294417",
     "status": "completed"
    },
    "tags": []
   },
   "outputs": [
    {
     "name": "stdout",
     "output_type": "stream",
     "text": [
      "age          0\n",
      "job          0\n",
      "marital      0\n",
      "education    0\n",
      "default      0\n",
      "balance      0\n",
      "housing      0\n",
      "loan         0\n",
      "contact      0\n",
      "day          0\n",
      "month        0\n",
      "duration     0\n",
      "campaign     0\n",
      "y            0\n",
      "dtype: int64\n"
     ]
    }
   ],
   "source": [
    "print(data.isnull().sum().sort_values(ascending=False))"
   ]
  },
  {
   "cell_type": "markdown",
   "id": "363100c5",
   "metadata": {
    "papermill": {
     "duration": 0.007545,
     "end_time": "2025-05-24T21:44:50.344915",
     "exception": false,
     "start_time": "2025-05-24T21:44:50.337370",
     "status": "completed"
    },
    "tags": []
   },
   "source": [
    "<strong>Hiçbir gözlemde eksik veri bulunmamaktadır. </strong>"
   ]
  },
  {
   "cell_type": "markdown",
   "id": "d2c2d129",
   "metadata": {
    "papermill": {
     "duration": 0.007426,
     "end_time": "2025-05-24T21:44:50.360081",
     "exception": false,
     "start_time": "2025-05-24T21:44:50.352655",
     "status": "completed"
    },
    "tags": []
   },
   "source": [
    "\n",
    "<strong>Veri Görselleştirme ve Yorumlama</strong></h4>"
   ]
  },
  {
   "cell_type": "markdown",
   "id": "8a35409c",
   "metadata": {
    "execution": {
     "iopub.execute_input": "2025-05-24T21:02:54.595804Z",
     "iopub.status.busy": "2025-05-24T21:02:54.595403Z",
     "iopub.status.idle": "2025-05-24T21:02:54.607545Z",
     "shell.execute_reply": "2025-05-24T21:02:54.605801Z",
     "shell.execute_reply.started": "2025-05-24T21:02:54.595779Z"
    },
    "papermill": {
     "duration": 0.00738,
     "end_time": "2025-05-24T21:44:50.374942",
     "exception": false,
     "start_time": "2025-05-24T21:44:50.367562",
     "status": "completed"
    },
    "tags": []
   },
   "source": [
    "<strong>Kategorik değişkenler olduğu için countplot daha uygun olur.\n",
    "Title ile başlık eklenmiş x ve y eksenlerine ise ilgili kolonlar yerleştirilmiştir.<strong>"
   ]
  },
  {
   "cell_type": "code",
   "execution_count": 7,
   "id": "9d82940a",
   "metadata": {
    "execution": {
     "iopub.execute_input": "2025-05-24T21:44:50.391470Z",
     "iopub.status.busy": "2025-05-24T21:44:50.391175Z",
     "iopub.status.idle": "2025-05-24T21:44:50.758946Z",
     "shell.execute_reply": "2025-05-24T21:44:50.758053Z"
    },
    "papermill": {
     "duration": 0.378,
     "end_time": "2025-05-24T21:44:50.760509",
     "exception": false,
     "start_time": "2025-05-24T21:44:50.382509",
     "status": "completed"
    },
    "tags": []
   },
   "outputs": [
    {
     "data": {
      "image/png": "[encoded data removed]",
      "text/plain": [
       "<Figure size 640x480 with 1 Axes>"
      ]
     },
     "metadata": {},
     "output_type": "display_data"
    }
   ],
   "source": [
    "\n",
    "sns.countplot(data=data, x='job', hue='y')\n",
    "plt.xticks(rotation=45)\n",
    "plt.show()\n",
    "##hangi meslek grubuna daha çok kredi verilmiş? sorusu için \n"
   ]
  },
  {
   "cell_type": "markdown",
   "id": "2d435d75",
   "metadata": {
    "papermill": {
     "duration": 0.008246,
     "end_time": "2025-05-24T21:44:50.777606",
     "exception": false,
     "start_time": "2025-05-24T21:44:50.769360",
     "status": "completed"
    },
    "tags": []
   },
   "source": [
    "<strong>Daha çok management pozisyonundaki kişilere kredi veriliyorken bu oran öğrenci ve hizmet sektörü için oldukça düşük\n",
    "düzenli geri ödeme kolaylığı işe bağlı olarak değiştiği için olabilir.</strong>"
   ]
  },
  {
   "cell_type": "code",
   "execution_count": 8,
   "id": "338db233",
   "metadata": {
    "execution": {
     "iopub.execute_input": "2025-05-24T21:44:50.796403Z",
     "iopub.status.busy": "2025-05-24T21:44:50.795674Z",
     "iopub.status.idle": "2025-05-24T21:44:50.994537Z",
     "shell.execute_reply": "2025-05-24T21:44:50.993633Z"
    },
    "papermill": {
     "duration": 0.209642,
     "end_time": "2025-05-24T21:44:50.995926",
     "exception": false,
     "start_time": "2025-05-24T21:44:50.786284",
     "status": "completed"
    },
    "tags": []
   },
   "outputs": [
    {
     "data": {
      "image/png": "[encoded data removed]",
      "text/plain": [
       "<Figure size 640x480 with 1 Axes>"
      ]
     },
     "metadata": {},
     "output_type": "display_data"
    }
   ],
   "source": [
    "\n",
    "sns.countplot(x='default', hue='y', data=data)\n",
    "plt.title('Default (temerrüt geçmişi)  Kredi Alımı İlişkisi')\n",
    "plt.show()"
   ]
  },
  {
   "cell_type": "code",
   "execution_count": 9,
   "id": "15805f5a",
   "metadata": {
    "execution": {
     "iopub.execute_input": "2025-05-24T21:44:51.015793Z",
     "iopub.status.busy": "2025-05-24T21:44:51.015474Z",
     "iopub.status.idle": "2025-05-24T21:44:51.208092Z",
     "shell.execute_reply": "2025-05-24T21:44:51.207235Z"
    },
    "papermill": {
     "duration": 0.204332,
     "end_time": "2025-05-24T21:44:51.209472",
     "exception": false,
     "start_time": "2025-05-24T21:44:51.005140",
     "status": "completed"
    },
    "tags": []
   },
   "outputs": [
    {
     "data": {
      "image/png": "[encoded data removed]",
      "text/plain": [
       "<Figure size 640x480 with 1 Axes>"
      ]
     },
     "metadata": {},
     "output_type": "display_data"
    }
   ],
   "source": [
    "sns.countplot(data=data, x='loan', hue='y')\n",
    "plt.title('Kişiel kredi alımı ve Kredi Alımı İlişkisi')\n",
    "plt.xticks(rotation=45)\n",
    "plt.show()"
   ]
  },
  {
   "cell_type": "markdown",
   "id": "d95d92c1",
   "metadata": {
    "papermill": {
     "duration": 0.069831,
     "end_time": "2025-05-24T21:44:51.288750",
     "exception": false,
     "start_time": "2025-05-24T21:44:51.218919",
     "status": "completed"
    },
    "tags": []
   },
   "source": [
    "<strong>Kişisel kredi bulunmuyorken de kredi verilme oranı oldukça düşük. Farklı kolonlar daha etkili olabilir.</strong>"
   ]
  },
  {
   "cell_type": "code",
   "execution_count": 10,
   "id": "89508fba",
   "metadata": {
    "execution": {
     "iopub.execute_input": "2025-05-24T21:44:51.308892Z",
     "iopub.status.busy": "2025-05-24T21:44:51.308135Z",
     "iopub.status.idle": "2025-05-24T21:44:51.486741Z",
     "shell.execute_reply": "2025-05-24T21:44:51.485921Z"
    },
    "papermill": {
     "duration": 0.190192,
     "end_time": "2025-05-24T21:44:51.488170",
     "exception": false,
     "start_time": "2025-05-24T21:44:51.297978",
     "status": "completed"
    },
    "tags": []
   },
   "outputs": [
    {
     "data": {
      "image/png": "[encoded data removed]",
      "text/plain": [
       "<Figure size 640x480 with 1 Axes>"
      ]
     },
     "metadata": {},
     "output_type": "display_data"
    }
   ],
   "source": [
    "sns.countplot(x='housing', hue='y', data=data)\n",
    "plt.title('Ev kredisi varken  Kredi Alımı (y) İlişkisi')\n",
    "plt.show()"
   ]
  },
  {
   "cell_type": "markdown",
   "id": "3d7c9820",
   "metadata": {
    "papermill": {
     "duration": 0.009952,
     "end_time": "2025-05-24T21:44:51.508356",
     "exception": false,
     "start_time": "2025-05-24T21:44:51.498404",
     "status": "completed"
    },
    "tags": []
   },
   "source": [
    "<strong>Ev kredisi olduğu zaman kredi verme oranı oldukça düşük bu sebeple \n",
    "Ev kredisi çok yüsek olabilir çünkü bu ödemenin geri alınmasının zor olduğu düşünülüyorsa kredi verilmiyordur.</strong>"
   ]
  },
  {
   "cell_type": "markdown",
   "id": "e9b18b97",
   "metadata": {
    "execution": {
     "iopub.execute_input": "2025-05-24T21:09:18.259358Z",
     "iopub.status.busy": "2025-05-24T21:09:18.258952Z",
     "iopub.status.idle": "2025-05-24T21:09:18.266895Z",
     "shell.execute_reply": "2025-05-24T21:09:18.265419Z",
     "shell.execute_reply.started": "2025-05-24T21:09:18.259333Z"
    },
    "papermill": {
     "duration": 0.009408,
     "end_time": "2025-05-24T21:44:51.527351",
     "exception": false,
     "start_time": "2025-05-24T21:44:51.517943",
     "status": "completed"
    },
    "tags": []
   },
   "source": [
    "<strong>Age sayısal değişken olduğu için histogram grafiği daha uygundur. Dağılım daha net gözükür.</strong>"
   ]
  },
  {
   "cell_type": "code",
   "execution_count": 11,
   "id": "4bfc2b7b",
   "metadata": {
    "execution": {
     "iopub.execute_input": "2025-05-24T21:44:51.547512Z",
     "iopub.status.busy": "2025-05-24T21:44:51.547228Z",
     "iopub.status.idle": "2025-05-24T21:44:51.802033Z",
     "shell.execute_reply": "2025-05-24T21:44:51.801176Z"
    },
    "papermill": {
     "duration": 0.266645,
     "end_time": "2025-05-24T21:44:51.803484",
     "exception": false,
     "start_time": "2025-05-24T21:44:51.536839",
     "status": "completed"
    },
    "tags": []
   },
   "outputs": [
    {
     "data": {
      "image/png": "[encoded data removed]",
      "text/plain": [
       "<Figure size 500x500 with 1 Axes>"
      ]
     },
     "metadata": {},
     "output_type": "display_data"
    }
   ],
   "source": [
    "data.age.plot(kind = 'hist',bins = 50,figsize = (5,5))\n",
    "plt.show()\n",
    "#yaş ortalaması\n"
   ]
  },
  {
   "cell_type": "markdown",
   "id": "ca418917",
   "metadata": {
    "papermill": {
     "duration": 0.009942,
     "end_time": "2025-05-24T21:44:51.823739",
     "exception": false,
     "start_time": "2025-05-24T21:44:51.813797",
     "status": "completed"
    },
    "tags": []
   },
   "source": [
    "<strong>Genelde orta yaş kredi başvurusu yapıyor yani bir meslek bir gelir edindikten sonra gibi duruyor.</strong>"
   ]
  },
  {
   "cell_type": "code",
   "execution_count": 12,
   "id": "ab35f9c4",
   "metadata": {
    "execution": {
     "iopub.execute_input": "2025-05-24T21:44:51.845106Z",
     "iopub.status.busy": "2025-05-24T21:44:51.844770Z",
     "iopub.status.idle": "2025-05-24T21:44:52.125075Z",
     "shell.execute_reply": "2025-05-24T21:44:52.124244Z"
    },
    "papermill": {
     "duration": 0.292847,
     "end_time": "2025-05-24T21:44:52.126529",
     "exception": false,
     "start_time": "2025-05-24T21:44:51.833682",
     "status": "completed"
    },
    "tags": []
   },
   "outputs": [
    {
     "data": {
      "text/plain": [
       "<function matplotlib.pyplot.show(close=None, block=None)>"
      ]
     },
     "execution_count": 12,
     "metadata": {},
     "output_type": "execute_result"
    },
    {
     "data": {
      "image/png": "[encoded data removed]",
      "text/plain": [
       "<Figure size 640x480 with 2 Axes>"
      ]
     },
     "metadata": {},
     "output_type": "display_data"
    }
   ],
   "source": [
    "corr = data.select_dtypes(include=[np.number]).corr()\n",
    "sns.heatmap(corr, annot=True )\n",
    "plt.title('Korelasyon Matrisi')\n",
    "plt.show\n",
    "\n"
   ]
  },
  {
   "cell_type": "markdown",
   "id": "2c5ca24e",
   "metadata": {
    "papermill": {
     "duration": 0.010649,
     "end_time": "2025-05-24T21:44:52.148345",
     "exception": false,
     "start_time": "2025-05-24T21:44:52.137696",
     "status": "completed"
    },
    "tags": []
   },
   "source": [
    "<strong>Sayısal değişkenler arasındaki ilişkiyi daha net görmek için Korelasyon Matrisi çizilmiştir. Örneğin campaign ve day arasındaki oran duration ve day \n",
    "arasındaki orana göre yüksek çünkü son iletişim tarihi ve gün ilişkisinin daha yüksek olmasını bekleriz.</strong>"
   ]
  },
  {
   "cell_type": "markdown",
   "id": "4863a4b8",
   "metadata": {
    "papermill": {
     "duration": 0.010659,
     "end_time": "2025-05-24T21:44:52.169817",
     "exception": false,
     "start_time": "2025-05-24T21:44:52.159158",
     "status": "completed"
    },
    "tags": []
   },
   "source": [
    "<strong> Genel olarak iyi bir meslek grubuda olmayan ve kredi oranı bulunan kişilere kredi verilmiyor.Hatta loan kolonunda \"no\" durumunda dahi kredi verilme oranı düşük.\n",
    "Bunun sebebi seçiciliği arttırmak ve ödemeleri tam bir dönüş ile geri almak olabilir.</strong>"
   ]
  },
  {
   "cell_type": "markdown",
   "id": "3597bf49",
   "metadata": {
    "papermill": {
     "duration": 0.010848,
     "end_time": "2025-05-24T21:44:52.191615",
     "exception": false,
     "start_time": "2025-05-24T21:44:52.180767",
     "status": "completed"
    },
    "tags": []
   },
   "source": [
    "<strong>Makine öğrenmesi modelleri sayısal verilerle çalıştığı için, kategorik (object türündeki) değişkenler get_dummies() fonksiyonu ile one-hot encoding uygulanarak sayısal formata dönüştürülmüştür. Prefix ismi kolonun kendi ismi olarak verilmiştir.</strong>"
   ]
  },
  {
   "cell_type": "code",
   "execution_count": 13,
   "id": "9a8059c0",
   "metadata": {
    "execution": {
     "iopub.execute_input": "2025-05-24T21:44:52.215340Z",
     "iopub.status.busy": "2025-05-24T21:44:52.214597Z",
     "iopub.status.idle": "2025-05-24T21:44:52.266848Z",
     "shell.execute_reply": "2025-05-24T21:44:52.265969Z"
    },
    "papermill": {
     "duration": 0.065841,
     "end_time": "2025-05-24T21:44:52.268436",
     "exception": false,
     "start_time": "2025-05-24T21:44:52.202595",
     "status": "completed"
    },
    "tags": []
   },
   "outputs": [
    {
     "data": {
      "text/html": [
       "<div>\n",
       "<style scoped>\n",
       "    .dataframe tbody tr th:only-of-type {\n",
       "        vertical-align: middle;\n",
       "    }\n",
       "\n",
       "    .dataframe tbody tr th {\n",
       "        vertical-align: top;\n",
       "    }\n",
       "\n",
       "    .dataframe thead th {\n",
       "        text-align: right;\n",
       "    }\n",
       "</style>\n",
       "<table border=\"1\" class=\"dataframe\">\n",
       "  <thead>\n",
       "    <tr style=\"text-align: right;\">\n",
       "      <th></th>\n",
       "      <th>age</th>\n",
       "      <th>balance</th>\n",
       "      <th>day</th>\n",
       "      <th>duration</th>\n",
       "      <th>campaign</th>\n",
       "      <th>y</th>\n",
       "      <th>job_admin</th>\n",
       "      <th>job_blue-collar</th>\n",
       "      <th>job_entrepreneur</th>\n",
       "      <th>job_housemaid</th>\n",
       "      <th>...</th>\n",
       "      <th>month_aug</th>\n",
       "      <th>month_dec</th>\n",
       "      <th>month_feb</th>\n",
       "      <th>month_jan</th>\n",
       "      <th>month_jul</th>\n",
       "      <th>month_jun</th>\n",
       "      <th>month_mar</th>\n",
       "      <th>month_may</th>\n",
       "      <th>month_nov</th>\n",
       "      <th>month_oct</th>\n",
       "    </tr>\n",
       "  </thead>\n",
       "  <tbody>\n",
       "    <tr>\n",
       "      <th>0</th>\n",
       "      <td>58</td>\n",
       "      <td>2143</td>\n",
       "      <td>5</td>\n",
       "      <td>261</td>\n",
       "      <td>1</td>\n",
       "      <td>no</td>\n",
       "      <td>False</td>\n",
       "      <td>False</td>\n",
       "      <td>False</td>\n",
       "      <td>False</td>\n",
       "      <td>...</td>\n",
       "      <td>False</td>\n",
       "      <td>False</td>\n",
       "      <td>False</td>\n",
       "      <td>False</td>\n",
       "      <td>False</td>\n",
       "      <td>False</td>\n",
       "      <td>False</td>\n",
       "      <td>True</td>\n",
       "      <td>False</td>\n",
       "      <td>False</td>\n",
       "    </tr>\n",
       "    <tr>\n",
       "      <th>1</th>\n",
       "      <td>44</td>\n",
       "      <td>29</td>\n",
       "      <td>5</td>\n",
       "      <td>151</td>\n",
       "      <td>1</td>\n",
       "      <td>no</td>\n",
       "      <td>False</td>\n",
       "      <td>False</td>\n",
       "      <td>False</td>\n",
       "      <td>False</td>\n",
       "      <td>...</td>\n",
       "      <td>False</td>\n",
       "      <td>False</td>\n",
       "      <td>False</td>\n",
       "      <td>False</td>\n",
       "      <td>False</td>\n",
       "      <td>False</td>\n",
       "      <td>False</td>\n",
       "      <td>True</td>\n",
       "      <td>False</td>\n",
       "      <td>False</td>\n",
       "    </tr>\n",
       "    <tr>\n",
       "      <th>2</th>\n",
       "      <td>33</td>\n",
       "      <td>2</td>\n",
       "      <td>5</td>\n",
       "      <td>76</td>\n",
       "      <td>1</td>\n",
       "      <td>no</td>\n",
       "      <td>False</td>\n",
       "      <td>False</td>\n",
       "      <td>True</td>\n",
       "      <td>False</td>\n",
       "      <td>...</td>\n",
       "      <td>False</td>\n",
       "      <td>False</td>\n",
       "      <td>False</td>\n",
       "      <td>False</td>\n",
       "      <td>False</td>\n",
       "      <td>False</td>\n",
       "      <td>False</td>\n",
       "      <td>True</td>\n",
       "      <td>False</td>\n",
       "      <td>False</td>\n",
       "    </tr>\n",
       "    <tr>\n",
       "      <th>3</th>\n",
       "      <td>47</td>\n",
       "      <td>1506</td>\n",
       "      <td>5</td>\n",
       "      <td>92</td>\n",
       "      <td>1</td>\n",
       "      <td>no</td>\n",
       "      <td>False</td>\n",
       "      <td>True</td>\n",
       "      <td>False</td>\n",
       "      <td>False</td>\n",
       "      <td>...</td>\n",
       "      <td>False</td>\n",
       "      <td>False</td>\n",
       "      <td>False</td>\n",
       "      <td>False</td>\n",
       "      <td>False</td>\n",
       "      <td>False</td>\n",
       "      <td>False</td>\n",
       "      <td>True</td>\n",
       "      <td>False</td>\n",
       "      <td>False</td>\n",
       "    </tr>\n",
       "    <tr>\n",
       "      <th>4</th>\n",
       "      <td>33</td>\n",
       "      <td>1</td>\n",
       "      <td>5</td>\n",
       "      <td>198</td>\n",
       "      <td>1</td>\n",
       "      <td>no</td>\n",
       "      <td>False</td>\n",
       "      <td>False</td>\n",
       "      <td>False</td>\n",
       "      <td>False</td>\n",
       "      <td>...</td>\n",
       "      <td>False</td>\n",
       "      <td>False</td>\n",
       "      <td>False</td>\n",
       "      <td>False</td>\n",
       "      <td>False</td>\n",
       "      <td>False</td>\n",
       "      <td>False</td>\n",
       "      <td>True</td>\n",
       "      <td>False</td>\n",
       "      <td>False</td>\n",
       "    </tr>\n",
       "  </tbody>\n",
       "</table>\n",
       "<p>5 rows × 45 columns</p>\n",
       "</div>"
      ],
      "text/plain": [
       "   age  balance  day  duration  campaign   y  job_admin  job_blue-collar  \\\n",
       "0   58     2143    5       261         1  no      False            False   \n",
       "1   44       29    5       151         1  no      False            False   \n",
       "2   33        2    5        76         1  no      False            False   \n",
       "3   47     1506    5        92         1  no      False             True   \n",
       "4   33        1    5       198         1  no      False            False   \n",
       "\n",
       "   job_entrepreneur  job_housemaid  ...  month_aug  month_dec  month_feb  \\\n",
       "0             False          False  ...      False      False      False   \n",
       "1             False          False  ...      False      False      False   \n",
       "2              True          False  ...      False      False      False   \n",
       "3             False          False  ...      False      False      False   \n",
       "4             False          False  ...      False      False      False   \n",
       "\n",
       "   month_jan  month_jul  month_jun  month_mar  month_may  month_nov  month_oct  \n",
       "0      False      False      False      False       True      False      False  \n",
       "1      False      False      False      False       True      False      False  \n",
       "2      False      False      False      False       True      False      False  \n",
       "3      False      False      False      False       True      False      False  \n",
       "4      False      False      False      False       True      False      False  \n",
       "\n",
       "[5 rows x 45 columns]"
      ]
     },
     "execution_count": 13,
     "metadata": {},
     "output_type": "execute_result"
    }
   ],
   "source": [
    "data = pd.get_dummies(data, columns = ['job', 'marital', 'education', 'default', 'housing', 'loan', 'contact', 'month'], prefix = ['job', 'marital', 'education', 'default', 'housing', 'loan', 'contact', 'month'])\n",
    "data.head()"
   ]
  },
  {
   "cell_type": "markdown",
   "id": "b2811f81",
   "metadata": {
    "papermill": {
     "duration": 0.011748,
     "end_time": "2025-05-24T21:44:52.291903",
     "exception": false,
     "start_time": "2025-05-24T21:44:52.280155",
     "status": "completed"
    },
    "tags": []
   },
   "source": [
    "<strong>get_dummies() ile True ve False kolonları oldu bu sebeple okunurluğu kolaylaştırmak içinde ilgi değerler int olarak gösterildi. </strong>"
   ]
  },
  {
   "cell_type": "code",
   "execution_count": 14,
   "id": "1acb1f76",
   "metadata": {
    "execution": {
     "iopub.execute_input": "2025-05-24T21:44:52.316441Z",
     "iopub.status.busy": "2025-05-24T21:44:52.316147Z",
     "iopub.status.idle": "2025-05-24T21:44:52.351562Z",
     "shell.execute_reply": "2025-05-24T21:44:52.350787Z"
    },
    "papermill": {
     "duration": 0.049914,
     "end_time": "2025-05-24T21:44:52.353257",
     "exception": false,
     "start_time": "2025-05-24T21:44:52.303343",
     "status": "completed"
    },
    "tags": []
   },
   "outputs": [],
   "source": [
    "dumm_cols = data.select_dtypes(include='bool').columns\n",
    "\n",
    "# Bu sütunları int'e çevir (True→1, False→0)\n",
    "data[dumm_cols] = data[dumm_cols].astype(int)"
   ]
  },
  {
   "cell_type": "code",
   "execution_count": 15,
   "id": "0486d463",
   "metadata": {
    "execution": {
     "iopub.execute_input": "2025-05-24T21:44:52.377747Z",
     "iopub.status.busy": "2025-05-24T21:44:52.376902Z",
     "iopub.status.idle": "2025-05-24T21:44:52.393558Z",
     "shell.execute_reply": "2025-05-24T21:44:52.392765Z"
    },
    "papermill": {
     "duration": 0.030161,
     "end_time": "2025-05-24T21:44:52.394950",
     "exception": false,
     "start_time": "2025-05-24T21:44:52.364789",
     "status": "completed"
    },
    "tags": []
   },
   "outputs": [
    {
     "data": {
      "text/html": [
       "<div>\n",
       "<style scoped>\n",
       "    .dataframe tbody tr th:only-of-type {\n",
       "        vertical-align: middle;\n",
       "    }\n",
       "\n",
       "    .dataframe tbody tr th {\n",
       "        vertical-align: top;\n",
       "    }\n",
       "\n",
       "    .dataframe thead th {\n",
       "        text-align: right;\n",
       "    }\n",
       "</style>\n",
       "<table border=\"1\" class=\"dataframe\">\n",
       "  <thead>\n",
       "    <tr style=\"text-align: right;\">\n",
       "      <th></th>\n",
       "      <th>age</th>\n",
       "      <th>balance</th>\n",
       "      <th>day</th>\n",
       "      <th>duration</th>\n",
       "      <th>campaign</th>\n",
       "      <th>y</th>\n",
       "      <th>job_admin</th>\n",
       "      <th>job_blue-collar</th>\n",
       "      <th>job_entrepreneur</th>\n",
       "      <th>job_housemaid</th>\n",
       "      <th>...</th>\n",
       "      <th>month_aug</th>\n",
       "      <th>month_dec</th>\n",
       "      <th>month_feb</th>\n",
       "      <th>month_jan</th>\n",
       "      <th>month_jul</th>\n",
       "      <th>month_jun</th>\n",
       "      <th>month_mar</th>\n",
       "      <th>month_may</th>\n",
       "      <th>month_nov</th>\n",
       "      <th>month_oct</th>\n",
       "    </tr>\n",
       "  </thead>\n",
       "  <tbody>\n",
       "    <tr>\n",
       "      <th>0</th>\n",
       "      <td>58</td>\n",
       "      <td>2143</td>\n",
       "      <td>5</td>\n",
       "      <td>261</td>\n",
       "      <td>1</td>\n",
       "      <td>no</td>\n",
       "      <td>0</td>\n",
       "      <td>0</td>\n",
       "      <td>0</td>\n",
       "      <td>0</td>\n",
       "      <td>...</td>\n",
       "      <td>0</td>\n",
       "      <td>0</td>\n",
       "      <td>0</td>\n",
       "      <td>0</td>\n",
       "      <td>0</td>\n",
       "      <td>0</td>\n",
       "      <td>0</td>\n",
       "      <td>1</td>\n",
       "      <td>0</td>\n",
       "      <td>0</td>\n",
       "    </tr>\n",
       "    <tr>\n",
       "      <th>1</th>\n",
       "      <td>44</td>\n",
       "      <td>29</td>\n",
       "      <td>5</td>\n",
       "      <td>151</td>\n",
       "      <td>1</td>\n",
       "      <td>no</td>\n",
       "      <td>0</td>\n",
       "      <td>0</td>\n",
       "      <td>0</td>\n",
       "      <td>0</td>\n",
       "      <td>...</td>\n",
       "      <td>0</td>\n",
       "      <td>0</td>\n",
       "      <td>0</td>\n",
       "      <td>0</td>\n",
       "      <td>0</td>\n",
       "      <td>0</td>\n",
       "      <td>0</td>\n",
       "      <td>1</td>\n",
       "      <td>0</td>\n",
       "      <td>0</td>\n",
       "    </tr>\n",
       "    <tr>\n",
       "      <th>2</th>\n",
       "      <td>33</td>\n",
       "      <td>2</td>\n",
       "      <td>5</td>\n",
       "      <td>76</td>\n",
       "      <td>1</td>\n",
       "      <td>no</td>\n",
       "      <td>0</td>\n",
       "      <td>0</td>\n",
       "      <td>1</td>\n",
       "      <td>0</td>\n",
       "      <td>...</td>\n",
       "      <td>0</td>\n",
       "      <td>0</td>\n",
       "      <td>0</td>\n",
       "      <td>0</td>\n",
       "      <td>0</td>\n",
       "      <td>0</td>\n",
       "      <td>0</td>\n",
       "      <td>1</td>\n",
       "      <td>0</td>\n",
       "      <td>0</td>\n",
       "    </tr>\n",
       "    <tr>\n",
       "      <th>3</th>\n",
       "      <td>47</td>\n",
       "      <td>1506</td>\n",
       "      <td>5</td>\n",
       "      <td>92</td>\n",
       "      <td>1</td>\n",
       "      <td>no</td>\n",
       "      <td>0</td>\n",
       "      <td>1</td>\n",
       "      <td>0</td>\n",
       "      <td>0</td>\n",
       "      <td>...</td>\n",
       "      <td>0</td>\n",
       "      <td>0</td>\n",
       "      <td>0</td>\n",
       "      <td>0</td>\n",
       "      <td>0</td>\n",
       "      <td>0</td>\n",
       "      <td>0</td>\n",
       "      <td>1</td>\n",
       "      <td>0</td>\n",
       "      <td>0</td>\n",
       "    </tr>\n",
       "    <tr>\n",
       "      <th>4</th>\n",
       "      <td>33</td>\n",
       "      <td>1</td>\n",
       "      <td>5</td>\n",
       "      <td>198</td>\n",
       "      <td>1</td>\n",
       "      <td>no</td>\n",
       "      <td>0</td>\n",
       "      <td>0</td>\n",
       "      <td>0</td>\n",
       "      <td>0</td>\n",
       "      <td>...</td>\n",
       "      <td>0</td>\n",
       "      <td>0</td>\n",
       "      <td>0</td>\n",
       "      <td>0</td>\n",
       "      <td>0</td>\n",
       "      <td>0</td>\n",
       "      <td>0</td>\n",
       "      <td>1</td>\n",
       "      <td>0</td>\n",
       "      <td>0</td>\n",
       "    </tr>\n",
       "  </tbody>\n",
       "</table>\n",
       "<p>5 rows × 45 columns</p>\n",
       "</div>"
      ],
      "text/plain": [
       "   age  balance  day  duration  campaign   y  job_admin  job_blue-collar  \\\n",
       "0   58     2143    5       261         1  no          0                0   \n",
       "1   44       29    5       151         1  no          0                0   \n",
       "2   33        2    5        76         1  no          0                0   \n",
       "3   47     1506    5        92         1  no          0                1   \n",
       "4   33        1    5       198         1  no          0                0   \n",
       "\n",
       "   job_entrepreneur  job_housemaid  ...  month_aug  month_dec  month_feb  \\\n",
       "0                 0              0  ...          0          0          0   \n",
       "1                 0              0  ...          0          0          0   \n",
       "2                 1              0  ...          0          0          0   \n",
       "3                 0              0  ...          0          0          0   \n",
       "4                 0              0  ...          0          0          0   \n",
       "\n",
       "   month_jan  month_jul  month_jun  month_mar  month_may  month_nov  month_oct  \n",
       "0          0          0          0          0          1          0          0  \n",
       "1          0          0          0          0          1          0          0  \n",
       "2          0          0          0          0          1          0          0  \n",
       "3          0          0          0          0          1          0          0  \n",
       "4          0          0          0          0          1          0          0  \n",
       "\n",
       "[5 rows x 45 columns]"
      ]
     },
     "execution_count": 15,
     "metadata": {},
     "output_type": "execute_result"
    }
   ],
   "source": [
    "data.head()"
   ]
  },
  {
   "cell_type": "markdown",
   "id": "51b0a540",
   "metadata": {
    "papermill": {
     "duration": 0.011116,
     "end_time": "2025-05-24T21:44:52.417932",
     "exception": false,
     "start_time": "2025-05-24T21:44:52.406816",
     "status": "completed"
    },
    "tags": []
   },
   "source": [
    "<strong>Hedef kolonumuzu dataframeden ayırdık. Artık bir tahmin kolonu oldu.\"yes\" ve \"no\"\n",
    "değerler için de eğer \"yes\" ise 1 değilse \"0\" sayısal değerleri belirlendi.</strong>"
   ]
  },
  {
   "cell_type": "code",
   "execution_count": 16,
   "id": "118b415b",
   "metadata": {
    "execution": {
     "iopub.execute_input": "2025-05-24T21:44:52.441893Z",
     "iopub.status.busy": "2025-05-24T21:44:52.441580Z",
     "iopub.status.idle": "2025-05-24T21:44:52.483811Z",
     "shell.execute_reply": "2025-05-24T21:44:52.482811Z"
    },
    "papermill": {
     "duration": 0.05611,
     "end_time": "2025-05-24T21:44:52.485440",
     "exception": false,
     "start_time": "2025-05-24T21:44:52.429330",
     "status": "completed"
    },
    "tags": []
   },
   "outputs": [],
   "source": [
    "data = data.rename(columns = {\"y\":\"target\"})\n",
    "data[\"target\"] = [1 if i.strip() == \"yes\" else 0 for i in data.target]"
   ]
  },
  {
   "cell_type": "markdown",
   "id": "a22c7edf",
   "metadata": {
    "papermill": {
     "duration": 0.011574,
     "end_time": "2025-05-24T21:44:52.508646",
     "exception": false,
     "start_time": "2025-05-24T21:44:52.497072",
     "status": "completed"
    },
    "tags": []
   },
   "source": [
    "<strong> DataFrame'den hedef kolonu çıkarıldı.</strong>"
   ]
  },
  {
   "cell_type": "code",
   "execution_count": 17,
   "id": "3bd9ed41",
   "metadata": {
    "execution": {
     "iopub.execute_input": "2025-05-24T21:44:52.533282Z",
     "iopub.status.busy": "2025-05-24T21:44:52.532951Z",
     "iopub.status.idle": "2025-05-24T21:44:52.542403Z",
     "shell.execute_reply": "2025-05-24T21:44:52.541564Z"
    },
    "papermill": {
     "duration": 0.023839,
     "end_time": "2025-05-24T21:44:52.544031",
     "exception": false,
     "start_time": "2025-05-24T21:44:52.520192",
     "status": "completed"
    },
    "tags": []
   },
   "outputs": [],
   "source": [
    "y = data.target\n",
    "x = data.drop([\"target\"],axis = 1) "
   ]
  },
  {
   "cell_type": "markdown",
   "id": "5f2c3828",
   "metadata": {
    "papermill": {
     "duration": 0.011249,
     "end_time": "2025-05-24T21:44:52.567103",
     "exception": false,
     "start_time": "2025-05-24T21:44:52.555854",
     "status": "completed"
    },
    "tags": []
   },
   "source": [
    "<strong>Tahmin edilmesi gerekilen değer y değeriydi. Değeri 1 ve 0 olarak değiştirdim çünkü model 1 ve 0 ile çalışır.\n",
    "Kredi verilecekse 1 verilmeyecekse 0.</strong>\n"
   ]
  },
  {
   "cell_type": "markdown",
   "id": "67438908",
   "metadata": {
    "papermill": {
     "duration": 0.011101,
     "end_time": "2025-05-24T21:44:52.589509",
     "exception": false,
     "start_time": "2025-05-24T21:44:52.578408",
     "status": "completed"
    },
    "tags": []
   },
   "source": [
    "\n",
    "<h4>MODEL </br>\n",
    "    Bu noktaya kadar veriye ön işleme adımları uygulanarak model için hazır hale getirildi. Artık  modelin eğitilmesi aşamasına geçiyoruz<h4>"
   ]
  },
  {
   "cell_type": "code",
   "execution_count": 18,
   "id": "f753bef7",
   "metadata": {
    "execution": {
     "iopub.execute_input": "2025-05-24T21:44:52.613326Z",
     "iopub.status.busy": "2025-05-24T21:44:52.613027Z",
     "iopub.status.idle": "2025-05-24T21:44:52.645608Z",
     "shell.execute_reply": "2025-05-24T21:44:52.644760Z"
    },
    "papermill": {
     "duration": 0.046532,
     "end_time": "2025-05-24T21:44:52.647286",
     "exception": false,
     "start_time": "2025-05-24T21:44:52.600754",
     "status": "completed"
    },
    "tags": []
   },
   "outputs": [],
   "source": [
    "test_size = 0.2\n",
    "X_train, X_test, Y_train, Y_test =  train_test_split(x, y, test_size = test_size, random_state = 42,stratify=y)"
   ]
  },
  {
   "cell_type": "markdown",
   "id": "5de678d1",
   "metadata": {
    "papermill": {
     "duration": 0.01096,
     "end_time": "2025-05-24T21:44:52.669796",
     "exception": false,
     "start_time": "2025-05-24T21:44:52.658836",
     "status": "completed"
    },
    "tags": []
   },
   "source": [
    "<strong>Dataset dengesiz bir dataset olduğu için train_test_split fonksiyonun \"stratify\" parametresi kullanılmıştır.Veri setinin %20'si test verisi, kalan %80'i ise eğitim (train) verisi olarak ayrılır.\n",
    "\n",
    "</strong>"
   ]
  },
  {
   "cell_type": "markdown",
   "id": "907a7e67",
   "metadata": {
    "papermill": {
     "duration": 0.010948,
     "end_time": "2025-05-24T21:44:52.692034",
     "exception": false,
     "start_time": "2025-05-24T21:44:52.681086",
     "status": "completed"
    },
    "tags": []
   },
   "source": [
    "<strong>KNN algoritması ile birlikte MinMaxScaler  kullandım çünkü dataset üzerinde bir değerin diğer değere daha baskın gelmesini ve o değeri ezmesini istemedim.  </br>\n",
    "Son durum; \n",
    "KNN + MinMaxScaler  </strong>"
   ]
  },
  {
   "cell_type": "code",
   "execution_count": 19,
   "id": "e9b7240f",
   "metadata": {
    "execution": {
     "iopub.execute_input": "2025-05-24T21:44:52.715861Z",
     "iopub.status.busy": "2025-05-24T21:44:52.715315Z",
     "iopub.status.idle": "2025-05-24T21:44:52.753581Z",
     "shell.execute_reply": "2025-05-24T21:44:52.752724Z"
    },
    "papermill": {
     "duration": 0.05202,
     "end_time": "2025-05-24T21:44:52.755268",
     "exception": false,
     "start_time": "2025-05-24T21:44:52.703248",
     "status": "completed"
    },
    "tags": []
   },
   "outputs": [],
   "source": [
    "scaler = MinMaxScaler()\n",
    "X_train = scaler.fit_transform(X_train)\n",
    "X_test = scaler.transform(X_test)"
   ]
  },
  {
   "cell_type": "markdown",
   "id": "f425ede4",
   "metadata": {
    "papermill": {
     "duration": 0.011274,
     "end_time": "2025-05-24T21:44:52.778356",
     "exception": false,
     "start_time": "2025-05-24T21:44:52.767082",
     "status": "completed"
    },
    "tags": []
   },
   "source": [
    "<strong> KNN algoritması seçildi çünkü iyi bir sınıfalandırma algoritmasıdır ayrıca tahmin yapmak istediğimiz durumda doğrusal bir durum değildir.Aynı zamanda hiperparametre optimizasyonu ile modelin performansı arttırmayı hedefledim.</strong>"
   ]
  },
  {
   "cell_type": "code",
   "execution_count": 20,
   "id": "d8c1b371",
   "metadata": {
    "execution": {
     "iopub.execute_input": "2025-05-24T21:44:52.803155Z",
     "iopub.status.busy": "2025-05-24T21:44:52.802798Z",
     "iopub.status.idle": "2025-05-24T21:44:52.806819Z",
     "shell.execute_reply": "2025-05-24T21:44:52.806051Z"
    },
    "papermill": {
     "duration": 0.018316,
     "end_time": "2025-05-24T21:44:52.808178",
     "exception": false,
     "start_time": "2025-05-24T21:44:52.789862",
     "status": "completed"
    },
    "tags": []
   },
   "outputs": [],
   "source": [
    "model = KNeighborsClassifier()\n",
    "##model oluşturuldu."
   ]
  },
  {
   "cell_type": "code",
   "execution_count": 21,
   "id": "aafa3398",
   "metadata": {
    "execution": {
     "iopub.execute_input": "2025-05-24T21:44:52.833071Z",
     "iopub.status.busy": "2025-05-24T21:44:52.832471Z",
     "iopub.status.idle": "2025-05-24T21:44:52.836430Z",
     "shell.execute_reply": "2025-05-24T21:44:52.835768Z"
    },
    "papermill": {
     "duration": 0.017601,
     "end_time": "2025-05-24T21:44:52.837653",
     "exception": false,
     "start_time": "2025-05-24T21:44:52.820052",
     "status": "completed"
    },
    "tags": []
   },
   "outputs": [],
   "source": [
    "parameters = {\n",
    "    \n",
    "    'n_neighbors':[3,5,10,15],\n",
    " 'weights': ['uniform', 'distance'],}\n",
    "    "
   ]
  },
  {
   "cell_type": "markdown",
   "id": "f2099c66",
   "metadata": {
    "papermill": {
     "duration": 0.011085,
     "end_time": "2025-05-24T21:44:52.860556",
     "exception": false,
     "start_time": "2025-05-24T21:44:52.849471",
     "status": "completed"
    },
    "tags": []
   },
   "source": [
    "<strong>Değerleri tamamiyle kendim verdim çok büyük ve birbirinden çok uzak değerler olmamasına dikkat ettim. 'Weights' parametresinde ise araştırmalarım doğrultusunda yaygın olarak tercih edilen seçenekleri kullandım.</strong>"
   ]
  },
  {
   "cell_type": "code",
   "execution_count": 22,
   "id": "cc829ec7",
   "metadata": {
    "execution": {
     "iopub.execute_input": "2025-05-24T21:44:52.885848Z",
     "iopub.status.busy": "2025-05-24T21:44:52.885110Z",
     "iopub.status.idle": "2025-05-24T21:44:52.889417Z",
     "shell.execute_reply": "2025-05-24T21:44:52.888584Z"
    },
    "papermill": {
     "duration": 0.018439,
     "end_time": "2025-05-24T21:44:52.890776",
     "exception": false,
     "start_time": "2025-05-24T21:44:52.872337",
     "status": "completed"
    },
    "tags": []
   },
   "outputs": [],
   "source": [
    "cv = StratifiedKFold(n_splits=5)  "
   ]
  },
  {
   "cell_type": "markdown",
   "id": "ae42afc9",
   "metadata": {
    "papermill": {
     "duration": 0.0111,
     "end_time": "2025-05-24T21:44:52.913590",
     "exception": false,
     "start_time": "2025-05-24T21:44:52.902490",
     "status": "completed"
    },
    "tags": []
   },
   "source": [
    "<strong>Datasette 5 katlı çapraz doğrulama (cross-validation) yapılması için StratifiedKFold kullanılmıştır.</strong>"
   ]
  },
  {
   "cell_type": "code",
   "execution_count": 23,
   "id": "ec17dfc7",
   "metadata": {
    "execution": {
     "iopub.execute_input": "2025-05-24T21:44:52.938302Z",
     "iopub.status.busy": "2025-05-24T21:44:52.937706Z",
     "iopub.status.idle": "2025-05-24T21:45:15.374031Z",
     "shell.execute_reply": "2025-05-24T21:45:15.373227Z"
    },
    "papermill": {
     "duration": 22.450174,
     "end_time": "2025-05-24T21:45:15.375435",
     "exception": false,
     "start_time": "2025-05-24T21:44:52.925261",
     "status": "completed"
    },
    "tags": []
   },
   "outputs": [
    {
     "data": {
      "text/html": [
       "<style>#sk-container-id-1 {color: black;background-color: white;}#sk-container-id-1 pre{padding: 0;}#sk-container-id-1 div.sk-toggleable {background-color: white;}#sk-container-id-1 label.sk-toggleable__label {cursor: pointer;display: block;width: 100%;margin-bottom: 0;padding: 0.3em;box-sizing: border-box;text-align: center;}#sk-container-id-1 label.sk-toggleable__label-arrow:before {content: \"▸\";float: left;margin-right: 0.25em;color: #696969;}#sk-container-id-1 label.sk-toggleable__label-arrow:hover:before {color: black;}#sk-container-id-1 div.sk-estimator:hover label.sk-toggleable__label-arrow:before {color: black;}#sk-container-id-1 div.sk-toggleable__content {max-height: 0;max-width: 0;overflow: hidden;text-align: left;background-color: #f0f8ff;}#sk-container-id-1 div.sk-toggleable__content pre {margin: 0.2em;color: black;border-radius: 0.25em;background-color: #f0f8ff;}#sk-container-id-1 input.sk-toggleable__control:checked~div.sk-toggleable__content {max-height: 200px;max-width: 100%;overflow: auto;}#sk-container-id-1 input.sk-toggleable__control:checked~label.sk-toggleable__label-arrow:before {content: \"▾\";}#sk-container-id-1 div.sk-estimator input.sk-toggleable__control:checked~label.sk-toggleable__label {background-color: #d4ebff;}#sk-container-id-1 div.sk-label input.sk-toggleable__control:checked~label.sk-toggleable__label {background-color: #d4ebff;}#sk-container-id-1 input.sk-hidden--visually {border: 0;clip: rect(1px 1px 1px 1px);clip: rect(1px, 1px, 1px, 1px);height: 1px;margin: -1px;overflow: hidden;padding: 0;position: absolute;width: 1px;}#sk-container-id-1 div.sk-estimator {font-family: monospace;background-color: #f0f8ff;border: 1px dotted black;border-radius: 0.25em;box-sizing: border-box;margin-bottom: 0.5em;}#sk-container-id-1 div.sk-estimator:hover {background-color: #d4ebff;}#sk-container-id-1 div.sk-parallel-item::after {content: \"\";width: 100%;border-bottom: 1px solid gray;flex-grow: 1;}#sk-container-id-1 div.sk-label:hover label.sk-toggleable__label {background-color: #d4ebff;}#sk-container-id-1 div.sk-serial::before {content: \"\";position: absolute;border-left: 1px solid gray;box-sizing: border-box;top: 0;bottom: 0;left: 50%;z-index: 0;}#sk-container-id-1 div.sk-serial {display: flex;flex-direction: column;align-items: center;background-color: white;padding-right: 0.2em;padding-left: 0.2em;position: relative;}#sk-container-id-1 div.sk-item {position: relative;z-index: 1;}#sk-container-id-1 div.sk-parallel {display: flex;align-items: stretch;justify-content: center;background-color: white;position: relative;}#sk-container-id-1 div.sk-item::before, #sk-container-id-1 div.sk-parallel-item::before {content: \"\";position: absolute;border-left: 1px solid gray;box-sizing: border-box;top: 0;bottom: 0;left: 50%;z-index: -1;}#sk-container-id-1 div.sk-parallel-item {display: flex;flex-direction: column;z-index: 1;position: relative;background-color: white;}#sk-container-id-1 div.sk-parallel-item:first-child::after {align-self: flex-end;width: 50%;}#sk-container-id-1 div.sk-parallel-item:last-child::after {align-self: flex-start;width: 50%;}#sk-container-id-1 div.sk-parallel-item:only-child::after {width: 0;}#sk-container-id-1 div.sk-dashed-wrapped {border: 1px dashed gray;margin: 0 0.4em 0.5em 0.4em;box-sizing: border-box;padding-bottom: 0.4em;background-color: white;}#sk-container-id-1 div.sk-label label {font-family: monospace;font-weight: bold;display: inline-block;line-height: 1.2em;}#sk-container-id-1 div.sk-label-container {text-align: center;}#sk-container-id-1 div.sk-container {/* jupyter's `normalize.less` sets `[hidden] { display: none; }` but bootstrap.min.css set `[hidden] { display: none !important; }` so we also need the `!important` here to be able to override the default hidden behavior on the sphinx rendered scikit-learn.org. See: https://github.com/scikit-learn/scikit-learn/issues/21755 */display: inline-block !important;position: relative;}#sk-container-id-1 div.sk-text-repr-fallback {display: none;}</style><div id=\"sk-container-id-1\" class=\"sk-top-container\"><div class=\"sk-text-repr-fallback\"><pre>GridSearchCV(cv=StratifiedKFold(n_splits=5, random_state=None, shuffle=False),\n",
       "             estimator=KNeighborsClassifier(), n_jobs=-1,\n",
       "             param_grid={&#x27;n_neighbors&#x27;: [3, 5, 10, 15],\n",
       "                         &#x27;weights&#x27;: [&#x27;uniform&#x27;, &#x27;distance&#x27;]},\n",
       "             scoring=&#x27;accuracy&#x27;)</pre><b>In a Jupyter environment, please rerun this cell to show the HTML representation or trust the notebook. <br />On GitHub, the HTML representation is unable to render, please try loading this page with nbviewer.org.</b></div><div class=\"sk-container\" hidden><div class=\"sk-item sk-dashed-wrapped\"><div class=\"sk-label-container\"><div class=\"sk-label sk-toggleable\"><input class=\"sk-toggleable__control sk-hidden--visually\" id=\"sk-estimator-id-1\" type=\"checkbox\" ><label for=\"sk-estimator-id-1\" class=\"sk-toggleable__label sk-toggleable__label-arrow\">GridSearchCV</label><div class=\"sk-toggleable__content\"><pre>GridSearchCV(cv=StratifiedKFold(n_splits=5, random_state=None, shuffle=False),\n",
       "             estimator=KNeighborsClassifier(), n_jobs=-1,\n",
       "             param_grid={&#x27;n_neighbors&#x27;: [3, 5, 10, 15],\n",
       "                         &#x27;weights&#x27;: [&#x27;uniform&#x27;, &#x27;distance&#x27;]},\n",
       "             scoring=&#x27;accuracy&#x27;)</pre></div></div></div><div class=\"sk-parallel\"><div class=\"sk-parallel-item\"><div class=\"sk-item\"><div class=\"sk-label-container\"><div class=\"sk-label sk-toggleable\"><input class=\"sk-toggleable__control sk-hidden--visually\" id=\"sk-estimator-id-2\" type=\"checkbox\" ><label for=\"sk-estimator-id-2\" class=\"sk-toggleable__label sk-toggleable__label-arrow\">estimator: KNeighborsClassifier</label><div class=\"sk-toggleable__content\"><pre>KNeighborsClassifier()</pre></div></div></div><div class=\"sk-serial\"><div class=\"sk-item\"><div class=\"sk-estimator sk-toggleable\"><input class=\"sk-toggleable__control sk-hidden--visually\" id=\"sk-estimator-id-3\" type=\"checkbox\" ><label for=\"sk-estimator-id-3\" class=\"sk-toggleable__label sk-toggleable__label-arrow\">KNeighborsClassifier</label><div class=\"sk-toggleable__content\"><pre>KNeighborsClassifier()</pre></div></div></div></div></div></div></div></div></div></div>"
      ],
      "text/plain": [
       "GridSearchCV(cv=StratifiedKFold(n_splits=5, random_state=None, shuffle=False),\n",
       "             estimator=KNeighborsClassifier(), n_jobs=-1,\n",
       "             param_grid={'n_neighbors': [3, 5, 10, 15],\n",
       "                         'weights': ['uniform', 'distance']},\n",
       "             scoring='accuracy')"
      ]
     },
     "execution_count": 23,
     "metadata": {},
     "output_type": "execute_result"
    }
   ],
   "source": [
    "grid_search = GridSearchCV(\n",
    "    estimator=model,\n",
    "    param_grid=parameters,\n",
    "    scoring='accuracy',\n",
    "    cv=cv,\n",
    "    n_jobs=-1\n",
    "   \n",
    ")\n",
    "\n",
    "grid_search.fit(X_train, Y_train)"
   ]
  },
  {
   "cell_type": "markdown",
   "id": "6a66968a",
   "metadata": {
    "papermill": {
     "duration": 0.011569,
     "end_time": "2025-05-24T21:45:15.399510",
     "exception": false,
     "start_time": "2025-05-24T21:45:15.387941",
     "status": "completed"
    },
    "tags": []
   },
   "source": [
    "**Estimator zaten modelimiz bizim için KNN, param_grid seçtiğimiz değerler, score içinde accuracy değeri belirlendi ben doğruluk değerini görmek istedim ve model fit edildi yani eğitildi.**"
   ]
  },
  {
   "cell_type": "markdown",
   "id": "040564d1",
   "metadata": {
    "papermill": {
     "duration": 0.011494,
     "end_time": "2025-05-24T21:45:15.422842",
     "exception": false,
     "start_time": "2025-05-24T21:45:15.411348",
     "status": "completed"
    },
    "tags": []
   },
   "source": [
    "<strong></strong>"
   ]
  },
  {
   "cell_type": "code",
   "execution_count": 24,
   "id": "f0d680bb",
   "metadata": {
    "execution": {
     "iopub.execute_input": "2025-05-24T21:45:15.447948Z",
     "iopub.status.busy": "2025-05-24T21:45:15.447267Z",
     "iopub.status.idle": "2025-05-24T21:45:15.452006Z",
     "shell.execute_reply": "2025-05-24T21:45:15.451072Z"
    },
    "papermill": {
     "duration": 0.018747,
     "end_time": "2025-05-24T21:45:15.453276",
     "exception": false,
     "start_time": "2025-05-24T21:45:15.434529",
     "status": "completed"
    },
    "tags": []
   },
   "outputs": [
    {
     "name": "stdout",
     "output_type": "stream",
     "text": [
      "En iyi parametreler: {'n_neighbors': 10, 'weights': 'uniform'}\n",
      "Accuracy: 0.9279375\n"
     ]
    }
   ],
   "source": [
    "print(\"En iyi parametreler:\", grid_search.best_params_)\n",
    "print(\"Accuracy:\", grid_search.best_score_)"
   ]
  },
  {
   "cell_type": "markdown",
   "id": "8c7726a4",
   "metadata": {
    "papermill": {
     "duration": 0.011504,
     "end_time": "2025-05-24T21:45:15.476700",
     "exception": false,
     "start_time": "2025-05-24T21:45:15.465196",
     "status": "completed"
    },
    "tags": []
   },
   "source": [
    "<strong>GridSearchCV kullanılarak en uygun hiperparametreler best_params_ özelliği ile tespit edildi.</strong>"
   ]
  },
  {
   "cell_type": "code",
   "execution_count": 25,
   "id": "dced1d14",
   "metadata": {
    "execution": {
     "iopub.execute_input": "2025-05-24T21:45:15.502129Z",
     "iopub.status.busy": "2025-05-24T21:45:15.501409Z",
     "iopub.status.idle": "2025-05-24T21:45:16.518521Z",
     "shell.execute_reply": "2025-05-24T21:45:16.517682Z"
    },
    "papermill": {
     "duration": 1.031284,
     "end_time": "2025-05-24T21:45:16.519914",
     "exception": false,
     "start_time": "2025-05-24T21:45:15.488630",
     "status": "completed"
    },
    "tags": []
   },
   "outputs": [
    {
     "name": "stdout",
     "output_type": "stream",
     "text": [
      "Test Accuracy: 0.9285\n"
     ]
    }
   ],
   "source": [
    "best_parm_knn = grid_search.best_estimator_ # en iyi parametreer ile eğitilmiş model\n",
    "\n",
    "\n",
    "accuracy_test = best_parm_knn.score(X_test, Y_test)\n",
    "print(\"Test Accuracy:\", accuracy_test)  ##test verisindeki doğruluk"
   ]
  },
  {
   "cell_type": "code",
   "execution_count": 26,
   "id": "e37c96e5",
   "metadata": {
    "execution": {
     "iopub.execute_input": "2025-05-24T21:45:16.545119Z",
     "iopub.status.busy": "2025-05-24T21:45:16.544368Z",
     "iopub.status.idle": "2025-05-24T21:45:17.538504Z",
     "shell.execute_reply": "2025-05-24T21:45:17.537693Z"
    },
    "papermill": {
     "duration": 1.008214,
     "end_time": "2025-05-24T21:45:17.540077",
     "exception": false,
     "start_time": "2025-05-24T21:45:16.531863",
     "status": "completed"
    },
    "tags": []
   },
   "outputs": [],
   "source": [
    "\n",
    "y_pred = grid_search.best_estimator_.predict(X_test)\n",
    "#test seti üzerindeki sonuçlar\n"
   ]
  },
  {
   "cell_type": "markdown",
   "id": "df19e588",
   "metadata": {
    "papermill": {
     "duration": 0.011849,
     "end_time": "2025-05-24T21:45:17.564303",
     "exception": false,
     "start_time": "2025-05-24T21:45:17.552454",
     "status": "completed"
    },
    "tags": []
   },
   "source": [
    "<strong>Sonuçlara baktığımızda;\n",
    "</br>\n",
    "0 classı için neredeyse hiç kaçırmıyor yani güzel tahminnler yapıyor ancak </br>\n",
    "1 classı için aynı şeyi söylemek pek mümkün değil.\n",
    "Datasetimizin dengesiz bir dataset olması da bu durumu etkiliyor.</strong>"
   ]
  },
  {
   "cell_type": "code",
   "execution_count": 27,
   "id": "30b6012c",
   "metadata": {
    "execution": {
     "iopub.execute_input": "2025-05-24T21:45:17.589471Z",
     "iopub.status.busy": "2025-05-24T21:45:17.589170Z",
     "iopub.status.idle": "2025-05-24T21:45:17.607859Z",
     "shell.execute_reply": "2025-05-24T21:45:17.606948Z"
    },
    "papermill": {
     "duration": 0.033146,
     "end_time": "2025-05-24T21:45:17.609333",
     "exception": false,
     "start_time": "2025-05-24T21:45:17.576187",
     "status": "completed"
    },
    "tags": []
   },
   "outputs": [
    {
     "name": "stdout",
     "output_type": "stream",
     "text": [
      "              precision    recall  f1-score   support\n",
      "\n",
      "           0       0.93      1.00      0.96      7421\n",
      "           1       0.55      0.06      0.11       579\n",
      "\n",
      "    accuracy                           0.93      8000\n",
      "   macro avg       0.74      0.53      0.54      8000\n",
      "weighted avg       0.90      0.93      0.90      8000\n",
      "\n"
     ]
    }
   ],
   "source": [
    "\n",
    "print(classification_report(Y_test, y_pred))"
   ]
  },
  {
   "cell_type": "markdown",
   "id": "607739da",
   "metadata": {
    "papermill": {
     "duration": 0.011977,
     "end_time": "2025-05-24T21:45:17.634014",
     "exception": false,
     "start_time": "2025-05-24T21:45:17.622037",
     "status": "completed"
    },
    "tags": []
   },
   "source": [
    "**Modelin test verisi üzerindeki performansını değerlendirmek için classification_report fonksiyonu kullanıldı. Bu fonksiyon sayesinde precision, recall, f1-score ve accuracy gibi önemli metrikleri detaylı şekilde gözlemlenir.**"
   ]
  },
  {
   "cell_type": "code",
   "execution_count": 28,
   "id": "12a779ac",
   "metadata": {
    "execution": {
     "iopub.execute_input": "2025-05-24T21:45:17.660254Z",
     "iopub.status.busy": "2025-05-24T21:45:17.659293Z",
     "iopub.status.idle": "2025-05-24T21:45:17.902971Z",
     "shell.execute_reply": "2025-05-24T21:45:17.902006Z"
    },
    "papermill": {
     "duration": 0.258249,
     "end_time": "2025-05-24T21:45:17.904458",
     "exception": false,
     "start_time": "2025-05-24T21:45:17.646209",
     "status": "completed"
    },
    "scrolled": true,
    "tags": []
   },
   "outputs": [
    {
     "data": {
      "image/png": "[encoded data removed]",
      "text/plain": [
       "<Figure size 1500x1500 with 2 Axes>"
      ]
     },
     "metadata": {},
     "output_type": "display_data"
    }
   ],
   "source": [
    "confusion_mtx = confusion_matrix(Y_test, y_pred) \n",
    "f,ax = plt.subplots(figsize=(15, 15))\n",
    "sns.heatmap(confusion_mtx, annot=True, cmap=\"Greens\",linecolor=\"gray\", fmt= 'd',ax=ax)\n",
    "plt.xlabel(\"Predicted Label\")\n",
    "plt.ylabel(\"True Label\")\n",
    "plt.title(\"Confusion Matrix\")\n",
    "plt.show()"
   ]
  },
  {
   "cell_type": "markdown",
   "id": "9fc2859a",
   "metadata": {
    "papermill": {
     "duration": 0.012158,
     "end_time": "2025-05-24T21:45:17.929338",
     "exception": false,
     "start_time": "2025-05-24T21:45:17.917180",
     "status": "completed"
    },
    "tags": []
   },
   "source": [
    "**Son olarak confusion_matrix hesaplandı ve görselleştirildi.\n",
    "Burada modelin 0 classı için daha başarılı olduğunu net bir şekilde söylebiliriz. \n",
    "gerçek değer 0 iken 0 tahmin ettiği 7392 ancak gerçek değer 1 iken 1 tahmin ettiği 36. Oldukça düşük bir oran.1 classı için model başarısız denebilir.**"
   ]
  }
 ],
 "metadata": {
  "kaggle": {
   "accelerator": "none",
   "dataSources": [
    {
     "datasetId": 7497900,
     "sourceId": 11925676,
     "sourceType": "datasetVersion"
    }
   ],
   "dockerImageVersionId": 31040,
   "isGpuEnabled": false,
   "isInternetEnabled": true,
   "language": "python",
   "sourceType": "notebook"
  },
  "kernelspec": {
   "display_name": "Python 3",
   "language": "python",
   "name": "python3"
  },
  "language_info": {
   "codemirror_mode": {
    "name": "ipython",
    "version": 3
   },
   "file_extension": ".py",
   "mimetype": "text/x-python",
   "name": "python",
   "nbconvert_exporter": "python",
   "pygments_lexer": "ipython3",
   "version": "3.11.11"
  },
  "papermill": {
   "default_parameters": {},
   "duration": 39.380803,
   "end_time": "2025-05-24T21:45:20.559745",
   "environment_variables": {},
   "exception": null,
   "input_path": "__notebook__.ipynb",
   "output_path": "__notebook__.ipynb",
   "parameters": {},
   "start_time": "2025-05-24T21:44:41.178942",
   "version": "2.6.0"
  }
 },
 "nbformat": 4,
 "nbformat_minor": 5
}
